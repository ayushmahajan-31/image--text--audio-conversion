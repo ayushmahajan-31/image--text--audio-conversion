{
  "nbformat": 4,
  "nbformat_minor": 0,
  "metadata": {
    "colab": {
      "provenance": [],
      "include_colab_link": true
    },
    "kernelspec": {
      "name": "python3",
      "display_name": "Python 3"
    },
    "language_info": {
      "name": "python"
    }
  },
  "cells": [
    {
      "cell_type": "markdown",
      "metadata": {
        "id": "view-in-github",
        "colab_type": "text"
      },
      "source": [
        "<a href=\"https://colab.research.google.com/github/ayushmahajan-31/image--text--audio-conversion/blob/main/Image_to_text_to_audio.ipynb\" target=\"_parent\"><img src=\"https://colab.research.google.com/assets/colab-badge.svg\" alt=\"Open In Colab\"/></a>"
      ]
    },
    {
      "cell_type": "code",
      "source": [
        "!sudo apt install tesseract-ocr\n",
        "!pip install pytesseract\n",
        "!pip install Pillow==9.0.0\n",
        "!pip install gTTS"
      ],
      "metadata": {
        "colab": {
          "base_uri": "https://localhost:8080/"
        },
        "id": "s2eYBmwDWDAJ",
        "outputId": "37b60407-5fa1-4bd9-a0ee-c350fad1a2b9"
      },
      "execution_count": 20,
      "outputs": [
        {
          "output_type": "stream",
          "name": "stdout",
          "text": [
            "Reading package lists... Done\n",
            "Building dependency tree... Done\n",
            "Reading state information... Done\n",
            "tesseract-ocr is already the newest version (4.1.1-2.1build1).\n",
            "0 upgraded, 0 newly installed, 0 to remove and 24 not upgraded.\n",
            "Requirement already satisfied: pytesseract in /usr/local/lib/python3.10/dist-packages (0.3.10)\n",
            "Requirement already satisfied: packaging>=21.3 in /usr/local/lib/python3.10/dist-packages (from pytesseract) (23.2)\n",
            "Requirement already satisfied: Pillow>=8.0.0 in /usr/local/lib/python3.10/dist-packages (from pytesseract) (9.0.0)\n",
            "Requirement already satisfied: Pillow==9.0.0 in /usr/local/lib/python3.10/dist-packages (9.0.0)\n",
            "Requirement already satisfied: gTTS in /usr/local/lib/python3.10/dist-packages (2.5.0)\n",
            "Requirement already satisfied: requests<3,>=2.27 in /usr/local/lib/python3.10/dist-packages (from gTTS) (2.31.0)\n",
            "Requirement already satisfied: click<8.2,>=7.1 in /usr/local/lib/python3.10/dist-packages (from gTTS) (8.1.7)\n",
            "Requirement already satisfied: charset-normalizer<4,>=2 in /usr/local/lib/python3.10/dist-packages (from requests<3,>=2.27->gTTS) (3.3.2)\n",
            "Requirement already satisfied: idna<4,>=2.5 in /usr/local/lib/python3.10/dist-packages (from requests<3,>=2.27->gTTS) (3.6)\n",
            "Requirement already satisfied: urllib3<3,>=1.21.1 in /usr/local/lib/python3.10/dist-packages (from requests<3,>=2.27->gTTS) (2.0.7)\n",
            "Requirement already satisfied: certifi>=2017.4.17 in /usr/local/lib/python3.10/dist-packages (from requests<3,>=2.27->gTTS) (2023.11.17)\n"
          ]
        }
      ]
    },
    {
      "cell_type": "code",
      "execution_count": 21,
      "metadata": {
        "id": "DwgN11GcUIvf"
      },
      "outputs": [],
      "source": [
        "import pytesseract\n",
        "from PIL import Image\n",
        "import pygame\n",
        "import gtts\n",
        "#import pyttsx3\n",
        "#from googletrans import Translator"
      ]
    },
    {
      "cell_type": "code",
      "source": [
        "pic = Image.open('/content/sample.jpg')\n",
        "print(pic)"
      ],
      "metadata": {
        "colab": {
          "base_uri": "https://localhost:8080/"
        },
        "id": "UCVJlIoWUaO0",
        "outputId": "9a03c6bd-101b-4b1b-ebcf-cc1b0e2013bb"
      },
      "execution_count": 24,
      "outputs": [
        {
          "output_type": "stream",
          "name": "stdout",
          "text": [
            "<PIL.JpegImagePlugin.JpegImageFile image mode=RGB size=1400x980 at 0x7D48C09B35E0>\n"
          ]
        }
      ]
    },
    {
      "cell_type": "code",
      "source": [
        "result = pytesseract.image_to_string(Image.open('/content/sample.jpg'))\n",
        "print(result)\n",
        "tts = gtts.gTTS(result)\n",
        "tts.save(\"audio.mp4\")"
      ],
      "metadata": {
        "colab": {
          "base_uri": "https://localhost:8080/"
        },
        "id": "YlcdrEN5Uw6-",
        "outputId": "fbfcf3a4-1412-45fb-aea1-62b16c96d1ab"
      },
      "execution_count": 25,
      "outputs": [
        {
          "output_type": "stream",
          "name": "stdout",
          "text": [
            "january\n",
            "\n",
            "2016\n",
            "\n",
            "Lorem ipsum dolor sit amet, consectetur adipiscing elit, sed do ei-\n",
            "usmod tempor incididunt ut labore et dolore magna aliqua. Ut\n",
            "enim ad minim veniam, quis nostrud exercitation ullamco laboris\n",
            "\n",
            "nisi ut aliquip ex ea commodo consequat. Duis aute irure dolor in\n",
            "reprehenderit in voluptate velit esse cillum dolore eu fugiat nulla\n",
            "pariatur. Excepteur sint occaecat cupidatat non proident, sunt in\n",
            "culpa qui officia deserunt mollit anim id est laborum. Lorem ipsum\n",
            "dolor sit amet, consectetur adipiscing elit, sed do eiusmod tempor\n",
            "incididunt ut labore et dolore magna aliqua. Ut enim ad minim\n",
            "\n",
            " \n",
            "\f\n"
          ]
        }
      ]
    }
  ]
}